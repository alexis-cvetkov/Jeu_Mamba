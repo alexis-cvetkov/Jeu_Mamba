{
 "cells": [
  {
   "cell_type": "code",
   "execution_count": 31,
   "metadata": {},
   "outputs": [
    {
     "name": "stdout",
     "output_type": "stream",
     "text": [
      "2.5\n",
      "[1, 2, 3, 6, 1, 4, 5, 6]\n",
      "[1, 2, 3]\n",
      "[1, 2, 5, 6]\n",
      "Roma\n",
      "\n",
      "in\n",
      "\n",
      "Italia\n",
      "\n",
      "est\n",
      "\n",
      "nom = Dupont\n",
      "prenom = Pierre\n",
      "age = 40\n"
     ]
    }
   ],
   "source": [
    "# Exercices\n",
    "\n",
    "# 1\n",
    "a = 5/2\n",
    "print(a)\n",
    "\n",
    "# 2\n",
    "a = [1,2,3]\n",
    "b = [4,5,6]\n",
    "c = a.copy()\n",
    "c.append(b[2])\n",
    "c.append(a[0])\n",
    "c = c + b\n",
    "print(c)\n",
    "print(a)\n",
    "# 3\n",
    "c = a[:2] + b[1:3]\n",
    "print(c)\n",
    "\n",
    "# 4\n",
    "msg = 'Roma in Italia est'\n",
    "L = msg.split()\n",
    "for s in L:\n",
    "    print(s+'\\n')\n",
    "\n",
    "# 5\n",
    "D = {'nom':'Dupont','prenom':'Pierre','age':40}\n",
    "keys = D.keys()\n",
    "for key in keys:\n",
    "    print(f'{key} = {D[key]}')"
   ]
  },
  {
   "cell_type": "code",
   "execution_count": 23,
   "metadata": {},
   "outputs": [
    {
     "name": "stdout",
     "output_type": "stream",
     "text": [
      "1\n",
      "2\n",
      "3.0\n",
      "-1.0\n",
      "\n"
     ]
    }
   ],
   "source": [
    "# 6\n",
    "T = ('msg',[1,2],D)\n",
    "T[1][0] = 2\n",
    "T[1]\n",
    "\n",
    "# 7\n",
    "v1 = float(input())\n",
    "v2 = float(input())\n",
    "f = open('exercice.txt','w')\n",
    "f.write(str(v1+v2)+'\\n')\n",
    "f.write(str(v1-v2)+'\\n')\n",
    "f.close()\n",
    "f = open('exercice.txt','r')\n",
    "print(f.read())"
   ]
  },
  {
   "cell_type": "code",
   "execution_count": 37,
   "metadata": {},
   "outputs": [
    {
     "name": "stdout",
     "output_type": "stream",
     "text": [
      "L1 est vide\n"
     ]
    },
    {
     "data": {
      "text/plain": [
       "True"
      ]
     },
     "execution_count": 37,
     "metadata": {},
     "output_type": "execute_result"
    }
   ],
   "source": [
    "L1 = []\n",
    "L2 = [1,2,3]\n",
    "\n",
    "if L1 == []:\n",
    "    print('L1 est vide')\n",
    "\n",
    "elif L2[0] > 2:\n",
    "    print('test')\n",
    "    \n",
    "msg = 'a b c abc'\n",
    "\n",
    "'a' in msg\n",
    "'abc' in msg"
   ]
  },
  {
   "cell_type": "code",
   "execution_count": 61,
   "metadata": {},
   "outputs": [
    {
     "name": "stdout",
     "output_type": "stream",
     "text": [
      "0\n",
      "1\n",
      "2\n",
      "3\n",
      "4\n",
      "5\n"
     ]
    }
   ],
   "source": [
    "for k in range(10):\n",
    "    print(k)\n",
    "    if k == 5:\n",
    "        break"
   ]
  },
  {
   "cell_type": "code",
   "execution_count": 71,
   "metadata": {},
   "outputs": [
    {
     "data": {
      "text/plain": [
       "({'bob': 'bob bob', 'alice': 'alice al', 'claude': 'claude cl'},\n",
       " ['alice al', 'bob bob', 'claude cl'])"
      ]
     },
     "execution_count": 71,
     "metadata": {},
     "output_type": "execute_result"
    }
   ],
   "source": [
    "def foo(list_phrases):\n",
    "    D = {}\n",
    "    for s in list_phrases:\n",
    "        l = s.split()\n",
    "        D[l[0]] = s\n",
    "    list_phrases.sort()\n",
    "    return D,list_phrases\n",
    "\n",
    "l = ['bob bob','alice al','claude cl']\n",
    "foo(l)"
   ]
  },
  {
   "cell_type": "code",
   "execution_count": 80,
   "metadata": {},
   "outputs": [
    {
     "name": "stdout",
     "output_type": "stream",
     "text": [
      "2018-09-12 16:38:38.746873\n"
     ]
    }
   ],
   "source": [
    "import datetime\n",
    "\n",
    "print(datetime.datetime.now())"
   ]
  },
  {
   "cell_type": "code",
   "execution_count": 55,
   "metadata": {},
   "outputs": [
    {
     "name": "stdout",
     "output_type": "stream",
     "text": [
      "mytest\n",
      "myfunction\n",
      "This is a test\n"
     ]
    }
   ],
   "source": [
    "import os\n",
    "import sys\n",
    "\n",
    "def foo(arg):\n",
    "    print('myfunction')\n",
    "    print(arg)\n",
    "    pass\n",
    "\n",
    "def mytest():\n",
    "    print('mytest')\n",
    "    foo('This is a test')\n",
    "    pass\n",
    "\n",
    "if __name__ == '__main__':\n",
    "    mytest()"
   ]
  },
  {
   "cell_type": "code",
   "execution_count": 38,
   "metadata": {
    "scrolled": true
   },
   "outputs": [
    {
     "name": "stdout",
     "output_type": "stream",
     "text": [
      "1\n",
      "2\n"
     ]
    }
   ],
   "source": [
    "from math import atan,sqrt\n",
    "\n",
    "class complexe:\n",
    "    \n",
    "    def __init__(self,real,imag):\n",
    "        \n",
    "        self.real = real\n",
    "        self.imag = imag\n",
    "        self.module = sqrt(real**2 + imag**2)\n",
    "        self.argument = atan(imag/real) \n",
    "    \n",
    "    def change_valeur(self,new_real,new_imag):\n",
    "        \n",
    "        self = self.__init__(new_real,new_imag)\n",
    "        \n",
    "    def __call__(self,format):\n",
    "        \n",
    "        print(getattr(self,format))\n",
    "    \n",
    "    def inverse(self):\n",
    "        \n",
    "        a,b = self.real,self.imag\n",
    "        self.real = a/(a**2+b**2)\n",
    "        self.imag = -b/(a**2+b**2) \n",
    "    \n",
    "    def somme(self,c):\n",
    "        \n",
    "        self.real += c.real\n",
    "        self.imag += c.imag\n",
    "\n",
    "c = complexe(1,1)\n",
    "print(c.imag)\n",
    "c.somme(c)\n",
    "print(c.imag)"
   ]
  },
  {
   "cell_type": "code",
   "execution_count": null,
   "metadata": {},
   "outputs": [],
   "source": [
    "list_mot = ['Lorem','ipsum']\n",
    "n = 4\n",
    "result = ' '.join([x[:n] for x in list_mot])\n",
    "result\n",
    "#sum(list_mot)"
   ]
  },
  {
   "cell_type": "code",
   "execution_count": 28,
   "metadata": {},
   "outputs": [
    {
     "name": "stdout",
     "output_type": "stream",
     "text": [
      "rectangle\n",
      "10\n",
      "6\n",
      "cercle\n",
      "6.283185307179586\n",
      "9.869604401089358\n",
      "carre\n",
      "8\n",
      "4\n"
     ]
    },
    {
     "data": {
      "text/plain": [
       "'test'"
      ]
     },
     "execution_count": 28,
     "metadata": {},
     "output_type": "execute_result"
    }
   ],
   "source": [
    "import numpy as np\n",
    "\n",
    "class FigureGeometrique(): # Classe modèle indiquant la structure générale des classes qui en hérite.\n",
    "    \n",
    "    def __init__(self):\n",
    "        self._NomObjet = ''\n",
    "    \n",
    "    def Surface(self):\n",
    "        pass\n",
    "    \n",
    "    def Perimetre(self):\n",
    "        pass\n",
    "\n",
    "    def Nom(self):\n",
    "        return self._NomObjet\n",
    "    \n",
    "    def __call__(self):\n",
    "        return 'test'\n",
    "    \n",
    "class Rectangle(FigureGeometrique):\n",
    "    \n",
    "    def __init__(self,longueur,largeur,nom_figure):\n",
    "        \n",
    "        self.longueur = longueur\n",
    "        self.largeur = largeur\n",
    "        self._NomObjet = nom_figure\n",
    "    \n",
    "    def Surface(self):\n",
    "        return self.longueur*self.largeur\n",
    "    \n",
    "    def Perimetre(self):\n",
    "        return (self.longueur+self.largeur)*2\n",
    "    \n",
    "class Cercle(FigureGeometrique):\n",
    "    \n",
    "    def __init__(self,rayon,nom_figure):\n",
    "        \n",
    "        self.rayon = rayon\n",
    "        self._NomObjet = nom_figure\n",
    "    \n",
    "    def Surface(self):\n",
    "        return self.rayon*np.pi**2\n",
    "    \n",
    "    def Perimetre(self):\n",
    "        return 2*np.pi*self.rayon\n",
    "\n",
    "class Carre(Rectangle):\n",
    "    \n",
    "    def __init__(self,cote,nom_objet):\n",
    "        \n",
    "        Rectangle.__init__(self,cote,cote,nom_objet)\n",
    "        #self = Rectangle(cote,cote,nom_objet)\n",
    "\n",
    "rect = Rectangle(2,3,'rectangle')\n",
    "cercle = Cercle(1,'cercle')\n",
    "carre = Carre(2,'carre')\n",
    "\n",
    "L = [rect,cercle,carre]\n",
    "\n",
    "for fig in L:\n",
    "    print(fig.Nom())\n",
    "    print(fig.Perimetre())\n",
    "    print(fig.Surface())\n",
    "    \n",
    "cercle()"
   ]
  }
 ],
 "metadata": {
  "kernelspec": {
   "display_name": "Python 3",
   "language": "python",
   "name": "python3"
  },
  "language_info": {
   "codemirror_mode": {
    "name": "ipython",
    "version": 3
   },
   "file_extension": ".py",
   "mimetype": "text/x-python",
   "name": "python",
   "nbconvert_exporter": "python",
   "pygments_lexer": "ipython3",
   "version": "3.6.5"
  }
 },
 "nbformat": 4,
 "nbformat_minor": 2
}
